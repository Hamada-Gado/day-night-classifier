{
  "cells": [
    {
      "cell_type": "markdown",
      "metadata": {
        "id": "sWaNne_SYuNg"
      },
      "source": [
        "# Set Up"
      ]
    },
    {
      "cell_type": "code",
      "execution_count": 3,
      "metadata": {
        "colab": {
          "base_uri": "https://localhost:8080/",
          "height": 35
        },
        "id": "MeIQeIKHYuNi",
        "outputId": "2b9ece19-8b85-413d-99dd-eba4e2590bab"
      },
      "outputs": [],
      "source": [
        "import os, cv2, time\n",
        "from random import shuffle \n",
        "from tqdm import tqdm\n",
        "\n",
        "import numpy as np\n",
        "import matplotlib.pyplot as plt\n",
        "\n",
        "from sklearn.model_selection import train_test_split, GridSearchCV\n",
        "from sklearn.svm import SVC\n",
        "from sklearn.metrics import accuracy_score, f1_score\n",
        "\n",
        "import pickle\n"
      ]
    },
    {
      "cell_type": "code",
      "execution_count": 4,
      "metadata": {
        "id": "BEKyJBRyYuNk"
      },
      "outputs": [],
      "source": [
        "root_path = \"../\"\n",
        "images_path = f\"{root_path}/databases/intermittent\"\n",
        "categories = [\"day\", \"night\"]"
      ]
    },
    {
      "cell_type": "code",
      "execution_count": 6,
      "metadata": {
        "colab": {
          "background_save": true
        },
        "id": "nRVfEM0XZPSN"
      },
      "outputs": [],
      "source": [
        "Image = np.ndarray[np.uint8, np.dtype[np.uint8]]\n",
        "\n",
        "def grayscale(image: Image) -> Image:\n",
        "    return cv2.cvtColor(image, cv2.COLOR_RGB2GRAY)\n",
        "\n",
        "def thresholding(image: Image) -> Image:\n",
        "    return cv2.threshold(image, 0, 255, cv2.THRESH_BINARY + cv2.THRESH_OTSU)[1]\n",
        "\n",
        "def preprocess(image: Image) -> Image:\n",
        "    image = grayscale(image)\n",
        "    image = thresholding(image)\n",
        "    image = cv2.resize(image, (225, 400))\n",
        "    image = cv2.normalize(image, None, alpha=0, beta=1, norm_type=cv2.NORM_MINMAX, dtype=cv2.CV_32F)\n",
        "    image = image.flatten()\n",
        "\n",
        "    return image"
      ]
    },
    {
      "cell_type": "code",
      "execution_count": 7,
      "metadata": {},
      "outputs": [
        {
          "name": "stderr",
          "output_type": "stream",
          "text": [
            "100%|██████████| 750/750 [00:28<00:00, 25.94it/s]\n",
            "100%|██████████| 750/750 [00:36<00:00, 20.33it/s]\n"
          ]
        }
      ],
      "source": [
        "data = []\n",
        "label = []\n",
        "\n",
        "for category in categories:\n",
        "    images_dir = os.listdir(f\"{images_path}/{category}\")\n",
        "    shuffle(images_dir)\n",
        "    for file in tqdm(images_dir[:750]):\n",
        "        img = cv2.imread(f\"{images_path}/{category}/{file}\")\n",
        "        img = preprocess(img)\n",
        "\n",
        "        data.append(img)\n",
        "        label.append(categories.index(category))\n",
        "    \n",
        "data = np.array(data)\n",
        "label = np.array(label)"
      ]
    },
    {
      "cell_type": "code",
      "execution_count": 5,
      "metadata": {},
      "outputs": [],
      "source": [
        "X_train, X_test, y_train, y_test = train_test_split(data, label, test_size= 0.2, shuffle= True, random_state= int(time.time()))"
      ]
    },
    {
      "cell_type": "code",
      "execution_count": 9,
      "metadata": {},
      "outputs": [],
      "source": [
        "clf = SVC()\n",
        "\n",
        "param_grid = {'C': [0.1, 1, 10], 'gamma': [\"scale\", \"auto\"], 'kernel': [\"rbf\", \"sigmoid\", \"poly\"]}\n",
        "grid_search = GridSearchCV(clf, param_grid, refit= \"accuracy\", scoring= [\"accuracy\", \"f1\"], cv= 3, verbose= 3)"
      ]
    },
    {
      "cell_type": "code",
      "execution_count": 10,
      "metadata": {},
      "outputs": [
        {
          "name": "stdout",
          "output_type": "stream",
          "text": [
            "Fitting 3 folds for each of 18 candidates, totalling 54 fits\n",
            "[CV 1/3] END C=0.1, gamma=scale, kernel=rbf; accuracy: (test=0.993) f1: (test=0.992) total time=  35.7s\n",
            "[CV 2/3] END C=0.1, gamma=scale, kernel=rbf; accuracy: (test=0.990) f1: (test=0.990) total time=  40.9s\n",
            "[CV 3/3] END C=0.1, gamma=scale, kernel=rbf; accuracy: (test=0.993) f1: (test=0.992) total time=  41.4s\n",
            "[CV 1/3] END C=0.1, gamma=scale, kernel=sigmoid; accuracy: (test=0.975) f1: (test=0.974) total time=  26.7s\n",
            "[CV 2/3] END C=0.1, gamma=scale, kernel=sigmoid; accuracy: (test=0.990) f1: (test=0.990) total time=  30.0s\n",
            "[CV 3/3] END C=0.1, gamma=scale, kernel=sigmoid; accuracy: (test=0.980) f1: (test=0.980) total time=  26.3s\n",
            "[CV 1/3] END C=0.1, gamma=scale, kernel=poly; accuracy: (test=0.995) f1: (test=0.995) total time=  19.3s\n",
            "[CV 2/3] END C=0.1, gamma=scale, kernel=poly; accuracy: (test=0.990) f1: (test=0.990) total time=  18.2s\n",
            "[CV 3/3] END C=0.1, gamma=scale, kernel=poly; accuracy: (test=0.988) f1: (test=0.988) total time=  19.2s\n",
            "[CV 1/3] END C=0.1, gamma=auto, kernel=rbf; accuracy: (test=0.998) f1: (test=0.997) total time=  44.8s\n",
            "[CV 2/3] END C=0.1, gamma=auto, kernel=rbf; accuracy: (test=0.990) f1: (test=0.990) total time=  45.0s\n",
            "[CV 3/3] END C=0.1, gamma=auto, kernel=rbf; accuracy: (test=0.993) f1: (test=0.992) total time=  44.1s\n",
            "[CV 1/3] END C=0.1, gamma=auto, kernel=sigmoid; accuracy: (test=0.995) f1: (test=0.995) total time=  36.5s\n",
            "[CV 2/3] END C=0.1, gamma=auto, kernel=sigmoid; accuracy: (test=0.990) f1: (test=0.990) total time=  37.9s\n",
            "[CV 3/3] END C=0.1, gamma=auto, kernel=sigmoid; accuracy: (test=0.990) f1: (test=0.990) total time=  35.9s\n",
            "[CV 1/3] END C=0.1, gamma=auto, kernel=poly; accuracy: (test=0.885) f1: (test=0.896) total time= 1.7min\n",
            "[CV 2/3] END C=0.1, gamma=auto, kernel=poly; accuracy: (test=0.882) f1: (test=0.894) total time= 1.7min\n",
            "[CV 3/3] END C=0.1, gamma=auto, kernel=poly; accuracy: (test=0.877) f1: (test=0.890) total time= 1.7min\n",
            "[CV 1/3] END C=1, gamma=scale, kernel=rbf; accuracy: (test=1.000) f1: (test=1.000) total time=  27.9s\n",
            "[CV 2/3] END C=1, gamma=scale, kernel=rbf; accuracy: (test=0.998) f1: (test=0.997) total time=  27.3s\n",
            "[CV 3/3] END C=1, gamma=scale, kernel=rbf; accuracy: (test=0.995) f1: (test=0.995) total time=  25.4s\n",
            "[CV 1/3] END C=1, gamma=scale, kernel=sigmoid; accuracy: (test=0.978) f1: (test=0.977) total time=  13.6s\n",
            "[CV 2/3] END C=1, gamma=scale, kernel=sigmoid; accuracy: (test=0.978) f1: (test=0.977) total time=  11.6s\n",
            "[CV 3/3] END C=1, gamma=scale, kernel=sigmoid; accuracy: (test=0.978) f1: (test=0.977) total time=  12.1s\n",
            "[CV 1/3] END C=1, gamma=scale, kernel=poly; accuracy: (test=1.000) f1: (test=1.000) total time=  15.7s\n",
            "[CV 2/3] END C=1, gamma=scale, kernel=poly; accuracy: (test=0.998) f1: (test=0.997) total time=  15.9s\n",
            "[CV 3/3] END C=1, gamma=scale, kernel=poly; accuracy: (test=0.995) f1: (test=0.995) total time=  15.8s\n",
            "[CV 1/3] END C=1, gamma=auto, kernel=rbf; accuracy: (test=0.998) f1: (test=0.997) total time=  17.2s\n",
            "[CV 2/3] END C=1, gamma=auto, kernel=rbf; accuracy: (test=0.995) f1: (test=0.995) total time=  15.8s\n",
            "[CV 3/3] END C=1, gamma=auto, kernel=rbf; accuracy: (test=0.993) f1: (test=0.992) total time=  16.0s\n",
            "[CV 1/3] END C=1, gamma=auto, kernel=sigmoid; accuracy: (test=0.998) f1: (test=0.997) total time=  14.1s\n",
            "[CV 2/3] END C=1, gamma=auto, kernel=sigmoid; accuracy: (test=0.993) f1: (test=0.992) total time=  14.1s\n",
            "[CV 3/3] END C=1, gamma=auto, kernel=sigmoid; accuracy: (test=0.993) f1: (test=0.992) total time=  13.5s\n",
            "[CV 1/3] END C=1, gamma=auto, kernel=poly; accuracy: (test=0.975) f1: (test=0.975) total time=  40.0s\n",
            "[CV 2/3] END C=1, gamma=auto, kernel=poly; accuracy: (test=0.983) f1: (test=0.983) total time=  41.3s\n",
            "[CV 3/3] END C=1, gamma=auto, kernel=poly; accuracy: (test=0.960) f1: (test=0.961) total time=  39.2s\n",
            "[CV 1/3] END C=10, gamma=scale, kernel=rbf; accuracy: (test=1.000) f1: (test=1.000) total time=  27.2s\n",
            "[CV 2/3] END C=10, gamma=scale, kernel=rbf; accuracy: (test=0.998) f1: (test=0.997) total time=  27.2s\n",
            "[CV 3/3] END C=10, gamma=scale, kernel=rbf; accuracy: (test=0.995) f1: (test=0.995) total time=  28.7s\n",
            "[CV 1/3] END C=10, gamma=scale, kernel=sigmoid; accuracy: (test=0.978) f1: (test=0.977) total time=   9.2s\n",
            "[CV 2/3] END C=10, gamma=scale, kernel=sigmoid; accuracy: (test=0.965) f1: (test=0.964) total time=  10.5s\n",
            "[CV 3/3] END C=10, gamma=scale, kernel=sigmoid; accuracy: (test=0.965) f1: (test=0.965) total time=   9.7s\n",
            "[CV 1/3] END C=10, gamma=scale, kernel=poly; accuracy: (test=1.000) f1: (test=1.000) total time=  20.3s\n",
            "[CV 2/3] END C=10, gamma=scale, kernel=poly; accuracy: (test=0.998) f1: (test=0.997) total time=  17.8s\n",
            "[CV 3/3] END C=10, gamma=scale, kernel=poly; accuracy: (test=0.995) f1: (test=0.995) total time=  14.9s\n",
            "[CV 1/3] END C=10, gamma=auto, kernel=rbf; accuracy: (test=1.000) f1: (test=1.000) total time=  17.3s\n",
            "[CV 2/3] END C=10, gamma=auto, kernel=rbf; accuracy: (test=0.998) f1: (test=0.997) total time=  15.9s\n",
            "[CV 3/3] END C=10, gamma=auto, kernel=rbf; accuracy: (test=0.995) f1: (test=0.995) total time=  13.2s\n",
            "[CV 1/3] END C=10, gamma=auto, kernel=sigmoid; accuracy: (test=1.000) f1: (test=1.000) total time=  10.9s\n",
            "[CV 2/3] END C=10, gamma=auto, kernel=sigmoid; accuracy: (test=0.998) f1: (test=0.997) total time=   9.8s\n",
            "[CV 3/3] END C=10, gamma=auto, kernel=sigmoid; accuracy: (test=0.995) f1: (test=0.995) total time=   8.5s\n",
            "[CV 1/3] END C=10, gamma=auto, kernel=poly; accuracy: (test=0.995) f1: (test=0.995) total time=  18.0s\n",
            "[CV 2/3] END C=10, gamma=auto, kernel=poly; accuracy: (test=0.990) f1: (test=0.990) total time=  18.3s\n",
            "[CV 3/3] END C=10, gamma=auto, kernel=poly; accuracy: (test=0.988) f1: (test=0.988) total time=  18.4s\n"
          ]
        },
        {
          "data": {
            "text/html": [
              "<style>#sk-container-id-1 {color: black;}#sk-container-id-1 pre{padding: 0;}#sk-container-id-1 div.sk-toggleable {background-color: white;}#sk-container-id-1 label.sk-toggleable__label {cursor: pointer;display: block;width: 100%;margin-bottom: 0;padding: 0.3em;box-sizing: border-box;text-align: center;}#sk-container-id-1 label.sk-toggleable__label-arrow:before {content: \"▸\";float: left;margin-right: 0.25em;color: #696969;}#sk-container-id-1 label.sk-toggleable__label-arrow:hover:before {color: black;}#sk-container-id-1 div.sk-estimator:hover label.sk-toggleable__label-arrow:before {color: black;}#sk-container-id-1 div.sk-toggleable__content {max-height: 0;max-width: 0;overflow: hidden;text-align: left;background-color: #f0f8ff;}#sk-container-id-1 div.sk-toggleable__content pre {margin: 0.2em;color: black;border-radius: 0.25em;background-color: #f0f8ff;}#sk-container-id-1 input.sk-toggleable__control:checked~div.sk-toggleable__content {max-height: 200px;max-width: 100%;overflow: auto;}#sk-container-id-1 input.sk-toggleable__control:checked~label.sk-toggleable__label-arrow:before {content: \"▾\";}#sk-container-id-1 div.sk-estimator input.sk-toggleable__control:checked~label.sk-toggleable__label {background-color: #d4ebff;}#sk-container-id-1 div.sk-label input.sk-toggleable__control:checked~label.sk-toggleable__label {background-color: #d4ebff;}#sk-container-id-1 input.sk-hidden--visually {border: 0;clip: rect(1px 1px 1px 1px);clip: rect(1px, 1px, 1px, 1px);height: 1px;margin: -1px;overflow: hidden;padding: 0;position: absolute;width: 1px;}#sk-container-id-1 div.sk-estimator {font-family: monospace;background-color: #f0f8ff;border: 1px dotted black;border-radius: 0.25em;box-sizing: border-box;margin-bottom: 0.5em;}#sk-container-id-1 div.sk-estimator:hover {background-color: #d4ebff;}#sk-container-id-1 div.sk-parallel-item::after {content: \"\";width: 100%;border-bottom: 1px solid gray;flex-grow: 1;}#sk-container-id-1 div.sk-label:hover label.sk-toggleable__label {background-color: #d4ebff;}#sk-container-id-1 div.sk-serial::before {content: \"\";position: absolute;border-left: 1px solid gray;box-sizing: border-box;top: 0;bottom: 0;left: 50%;z-index: 0;}#sk-container-id-1 div.sk-serial {display: flex;flex-direction: column;align-items: center;background-color: white;padding-right: 0.2em;padding-left: 0.2em;position: relative;}#sk-container-id-1 div.sk-item {position: relative;z-index: 1;}#sk-container-id-1 div.sk-parallel {display: flex;align-items: stretch;justify-content: center;background-color: white;position: relative;}#sk-container-id-1 div.sk-item::before, #sk-container-id-1 div.sk-parallel-item::before {content: \"\";position: absolute;border-left: 1px solid gray;box-sizing: border-box;top: 0;bottom: 0;left: 50%;z-index: -1;}#sk-container-id-1 div.sk-parallel-item {display: flex;flex-direction: column;z-index: 1;position: relative;background-color: white;}#sk-container-id-1 div.sk-parallel-item:first-child::after {align-self: flex-end;width: 50%;}#sk-container-id-1 div.sk-parallel-item:last-child::after {align-self: flex-start;width: 50%;}#sk-container-id-1 div.sk-parallel-item:only-child::after {width: 0;}#sk-container-id-1 div.sk-dashed-wrapped {border: 1px dashed gray;margin: 0 0.4em 0.5em 0.4em;box-sizing: border-box;padding-bottom: 0.4em;background-color: white;}#sk-container-id-1 div.sk-label label {font-family: monospace;font-weight: bold;display: inline-block;line-height: 1.2em;}#sk-container-id-1 div.sk-label-container {text-align: center;}#sk-container-id-1 div.sk-container {/* jupyter's `normalize.less` sets `[hidden] { display: none; }` but bootstrap.min.css set `[hidden] { display: none !important; }` so we also need the `!important` here to be able to override the default hidden behavior on the sphinx rendered scikit-learn.org. See: https://github.com/scikit-learn/scikit-learn/issues/21755 */display: inline-block !important;position: relative;}#sk-container-id-1 div.sk-text-repr-fallback {display: none;}</style><div id=\"sk-container-id-1\" class=\"sk-top-container\"><div class=\"sk-text-repr-fallback\"><pre>SVC(C=1)</pre><b>In a Jupyter environment, please rerun this cell to show the HTML representation or trust the notebook. <br />On GitHub, the HTML representation is unable to render, please try loading this page with nbviewer.org.</b></div><div class=\"sk-container\" hidden><div class=\"sk-item\"><div class=\"sk-estimator sk-toggleable\"><input class=\"sk-toggleable__control sk-hidden--visually\" id=\"sk-estimator-id-1\" type=\"checkbox\" checked><label for=\"sk-estimator-id-1\" class=\"sk-toggleable__label sk-toggleable__label-arrow\">SVC</label><div class=\"sk-toggleable__content\"><pre>SVC(C=1)</pre></div></div></div></div></div>"
            ],
            "text/plain": [
              "SVC(C=1)"
            ]
          },
          "execution_count": 10,
          "metadata": {},
          "output_type": "execute_result"
        }
      ],
      "source": [
        "grid_search.fit(X_train, y_train)\n",
        "best_estimator = grid_search.best_estimator_\n",
        "best_estimator"
      ]
    },
    {
      "cell_type": "code",
      "execution_count": 11,
      "metadata": {},
      "outputs": [
        {
          "data": {
            "text/plain": [
              "{'C': 1, 'gamma': 'scale', 'kernel': 'rbf'}"
            ]
          },
          "execution_count": 11,
          "metadata": {},
          "output_type": "execute_result"
        }
      ],
      "source": [
        "grid_search.best_params_"
      ]
    },
    {
      "cell_type": "code",
      "execution_count": 12,
      "metadata": {},
      "outputs": [
        {
          "data": {
            "text/plain": [
              "(0.9933333333333333, 0.9935897435897436)"
            ]
          },
          "execution_count": 12,
          "metadata": {},
          "output_type": "execute_result"
        }
      ],
      "source": [
        "y_hat = best_estimator.predict(X_test)\n",
        "score = (accuracy_score(y_test, y_hat), f1_score(y_test, y_hat))\n",
        "\n",
        "score"
      ]
    },
    {
      "cell_type": "code",
      "execution_count": 27,
      "metadata": {},
      "outputs": [],
      "source": [
        "model_path = f\"sklearn_{grid_search.best_estimator_}.pickle\"\n",
        "pickle.dump(best_estimator, open(model_path, \"wb\"))"
      ]
    }
  ],
  "metadata": {
    "accelerator": "GPU",
    "colab": {
      "gpuType": "T4",
      "provenance": []
    },
    "kernelspec": {
      "display_name": "Python 3",
      "name": "python3"
    },
    "language_info": {
      "codemirror_mode": {
        "name": "ipython",
        "version": 3
      },
      "file_extension": ".py",
      "mimetype": "text/x-python",
      "name": "python",
      "nbconvert_exporter": "python",
      "pygments_lexer": "ipython3",
      "version": "3.10.11"
    }
  },
  "nbformat": 4,
  "nbformat_minor": 0
}
