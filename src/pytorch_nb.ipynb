{
  "cells": [
    {
      "cell_type": "code",
      "execution_count": 1,
      "metadata": {
        "colab": {
          "base_uri": "https://localhost:8080/",
          "height": 36
        },
        "id": "MeIQeIKHYuNi",
        "outputId": "79e94694-0f3e-4c08-a6bc-11d9b1814145"
      },
      "outputs": [
        {
          "data": {
            "text/plain": [
              "'cuda'"
            ]
          },
          "execution_count": 1,
          "metadata": {},
          "output_type": "execute_result"
        }
      ],
      "source": [
        "from tqdm import tqdm\n",
        "\n",
        "import matplotlib.pyplot as plt\n",
        "\n",
        "import torch, torchvision\n",
        "from torch import nn\n",
        "from torch.nn import functional as F\n",
        "from torchvision import transforms\n",
        "\n",
        "from utils import *\n",
        "\n",
        "device = 'cuda' if torch.cuda.is_available() else 'cpu'\n",
        "device"
      ]
    },
    {
      "cell_type": "code",
      "execution_count": 23,
      "metadata": {
        "id": "f0pAxsfziv29"
      },
      "outputs": [],
      "source": [
        "transform = transforms.Compose([\n",
        "    transforms.Resize((360, 640)),\n",
        "    transforms.ToTensor(),\n",
        "])\n",
        "\n",
        "dataset = torchvision.datasets.ImageFolder(images_path, transform= transform,\n",
        "                                           is_valid_file= lambda x : cv2.imread(x) is not None)"
      ]
    },
    {
      "cell_type": "code",
      "execution_count": 24,
      "metadata": {
        "id": "0o_DYs0_YuNm"
      },
      "outputs": [],
      "source": [
        "batch_size = 64\n",
        "\n",
        "train_ds, val_ds, test_ds = torch.utils.data.random_split(dataset, [0.6, 0.2, 0.2])\n",
        "\n",
        "train_dataloader = torch.utils.data.DataLoader(train_ds, batch_size, shuffle=True,\n",
        "                                         drop_last=True)\n",
        "\n",
        "val_dataloader = torch.utils.data.DataLoader(val_ds, batch_size, shuffle=True,\n",
        "                                         drop_last=True)\n",
        "\n",
        "test_dataloader = torch.utils.data.DataLoader(test_ds)"
      ]
    },
    {
      "cell_type": "code",
      "execution_count": 2,
      "metadata": {
        "colab": {
          "base_uri": "https://localhost:8080/"
        },
        "id": "vMiXYXa0YuNn",
        "outputId": "e4be4004-529f-4729-cc32-0e0ae91ad082"
      },
      "outputs": [
        {
          "name": "stderr",
          "output_type": "stream",
          "text": [
            "f:\\GitHub Repos\\day-night classifier\\venv\\lib\\site-packages\\torch\\nn\\modules\\lazy.py:180: UserWarning: Lazy modules are a new feature under heavy development so changes to the API or functionality can happen at any moment.\n",
            "  warnings.warn('Lazy modules are a new feature under heavy development '\n"
          ]
        },
        {
          "data": {
            "text/plain": [
              "Net(\n",
              "  (conv1): Conv2d(3, 6, kernel_size=(5, 5), stride=(1, 1), padding=(2, 2))\n",
              "  (conv2): Conv2d(6, 16, kernel_size=(5, 5), stride=(1, 1))\n",
              "  (pool): MaxPool2d(kernel_size=2, stride=2, padding=0, dilation=1, ceil_mode=False)\n",
              "  (flatten): Flatten(start_dim=1, end_dim=-1)\n",
              "  (fc0): LazyLinear(in_features=0, out_features=1024, bias=True)\n",
              "  (fc1): Linear(in_features=1024, out_features=512, bias=True)\n",
              "  (fc2): Linear(in_features=512, out_features=256, bias=True)\n",
              "  (fc3): Linear(in_features=256, out_features=128, bias=True)\n",
              "  (fc4): Linear(in_features=128, out_features=2, bias=True)\n",
              ")"
            ]
          },
          "execution_count": 2,
          "metadata": {},
          "output_type": "execute_result"
        }
      ],
      "source": [
        "class Net(nn.Module):\n",
        "\n",
        "    def __init__(self, *args, **kwargs) -> None:\n",
        "        super().__init__(*args, **kwargs)\n",
        "\n",
        "        self.conv1 = nn.Conv2d(3, 6, kernel_size= 5, padding= 2)\n",
        "        self.conv2 = nn.Conv2d(6, 16, kernel_size= 5)\n",
        "        self.pool = nn.MaxPool2d(kernel_size=2, stride=2)\n",
        "\n",
        "        self.flatten = nn.Flatten()\n",
        "\n",
        "        self.fc0 = nn.LazyLinear(1024)\n",
        "        self.fc1 = nn.Linear(1024, 512)\n",
        "        self.fc2 = nn.Linear(512, 256)\n",
        "        self.fc3 = nn.Linear(256, 128)\n",
        "        self.fc4 = nn.Linear(128, 2)\n",
        "\n",
        "\n",
        "    def forward(self, X: torch.Tensor) -> torch.Tensor:\n",
        "        X = self.pool(F.relu(self.conv1(X)))\n",
        "        X = self.pool(F.relu(self.conv2(X)))\n",
        "        X = self.flatten(X)\n",
        "        X = F.relu(self.fc0(X))\n",
        "        X = F.relu(self.fc1(X))\n",
        "        X = F.relu(self.fc2(X))\n",
        "        X = F.relu(self.fc3(X))\n",
        "\n",
        "        return self.fc4(X)\n",
        "\n",
        "net = Net()\n",
        "net.to(device)"
      ]
    },
    {
      "cell_type": "code",
      "execution_count": 56,
      "metadata": {
        "colab": {
          "base_uri": "https://localhost:8080/"
        },
        "id": "91DCOpo8YuNo",
        "outputId": "5ccbd3e3-00a0-45d1-ceac-f5f261d677de"
      },
      "outputs": [
        {
          "name": "stderr",
          "output_type": "stream",
          "text": [
            "/usr/local/lib/python3.10/dist-packages/torch/nn/modules/lazy.py:180: UserWarning: Lazy modules are a new feature under heavy development so changes to the API or functionality can happen at any moment.\n",
            "  warnings.warn('Lazy modules are a new feature under heavy development '\n",
            "100%|██████████| 53/53 [02:04<00:00,  2.36s/it]\n"
          ]
        },
        {
          "name": "stdout",
          "output_type": "stream",
          "text": [
            "Epoch: 0 Train loss: 0.3513934788066069 Train accuracy: 88.04792022705078                            Val loss: 0.09597668187660083 Val accuracy: 93.15789794921875\n"
          ]
        },
        {
          "name": "stderr",
          "output_type": "stream",
          "text": [
            "100%|██████████| 53/53 [02:02<00:00,  2.31s/it]\n"
          ]
        },
        {
          "name": "stdout",
          "output_type": "stream",
          "text": [
            "Epoch: 1 Train loss: 0.01727555720542845 Train accuracy: 98.88953399658203                            Val loss: 0.03607046668205345 Val accuracy: 94.91228485107422\n"
          ]
        },
        {
          "name": "stderr",
          "output_type": "stream",
          "text": [
            "100%|██████████| 53/53 [02:02<00:00,  2.31s/it]\n"
          ]
        },
        {
          "name": "stdout",
          "output_type": "stream",
          "text": [
            "Epoch: 2 Train loss: 0.014282161720730647 Train accuracy: 98.80186462402344                            Val loss: 0.016297959314103713 Val accuracy: 95.08772277832031\n"
          ]
        },
        {
          "name": "stderr",
          "output_type": "stream",
          "text": [
            "100%|██████████| 53/53 [02:15<00:00,  2.56s/it]\n"
          ]
        },
        {
          "name": "stdout",
          "output_type": "stream",
          "text": [
            "Epoch: 3 Train loss: 0.006478013146493403 Train accuracy: 99.00642395019531                            Val loss: 0.014496620690650225 Val accuracy: 95.08772277832031\n"
          ]
        },
        {
          "name": "stderr",
          "output_type": "stream",
          "text": [
            "100%|██████████| 53/53 [02:11<00:00,  2.49s/it]\n"
          ]
        },
        {
          "name": "stdout",
          "output_type": "stream",
          "text": [
            "Epoch: 4 Train loss: 0.003994119871678 Train accuracy: 99.00642395019531                            Val loss: 0.010526832521549965 Val accuracy: 95.08772277832031\n"
          ]
        },
        {
          "name": "stderr",
          "output_type": "stream",
          "text": [
            "100%|██████████| 53/53 [02:07<00:00,  2.40s/it]\n"
          ]
        },
        {
          "name": "stdout",
          "output_type": "stream",
          "text": [
            "Epoch: 5 Train loss: 0.015058459553084599 Train accuracy: 98.83109283447266                            Val loss: 0.0204943464308152 Val accuracy: 95.1754379272461\n"
          ]
        },
        {
          "name": "stderr",
          "output_type": "stream",
          "text": [
            "100%|██████████| 53/53 [02:02<00:00,  2.31s/it]\n"
          ]
        },
        {
          "name": "stdout",
          "output_type": "stream",
          "text": [
            "Epoch: 6 Train loss: 0.006174162986502947 Train accuracy: 98.94798278808594                            Val loss: 0.012684123570981778 Val accuracy: 95.08772277832031\n"
          ]
        },
        {
          "name": "stderr",
          "output_type": "stream",
          "text": [
            "100%|██████████| 53/53 [02:02<00:00,  2.32s/it]\n"
          ]
        },
        {
          "name": "stdout",
          "output_type": "stream",
          "text": [
            "Epoch: 7 Train loss: 0.0013981408596050113 Train accuracy: 99.06487274169922                            Val loss: 0.011088784502077799 Val accuracy: 95.2631607055664\n"
          ]
        }
      ],
      "source": [
        "epochs = 8\n",
        "lr = 0.001\n",
        "optim = torch.optim.Adam(net.parameters(), lr=lr)\n",
        "\n",
        "loss_fn = nn.CrossEntropyLoss()\n",
        "\n",
        "train_losses = []\n",
        "val_losses = []\n",
        "\n",
        "vaildation = True\n",
        "\n",
        "for epoch in range(epochs):\n",
        "    net.train()\n",
        "\n",
        "    train_correct = 0\n",
        "    train_loss = 0\n",
        "\n",
        "    for X, y in tqdm(train_dataloader):\n",
        "        X = X.to(device)\n",
        "        y = y.to(device)\n",
        "\n",
        "        optim.zero_grad()\n",
        "\n",
        "        pred = net(X)\n",
        "\n",
        "        loss = loss_fn(pred, y)\n",
        "\n",
        "        train_loss += loss.item() * X.size(0)\n",
        "        pred = torch.argmax(pred, dim= -1)\n",
        "        train_correct += (pred == y).float().sum()\n",
        "\n",
        "        with torch.no_grad():\n",
        "            loss.backward()\n",
        "            optim.step()\n",
        "\n",
        "    train_loss /= len(train_ds)\n",
        "    train_losses.append(train_loss)\n",
        "\n",
        "    train_accuracy = 100 * train_correct / len(train_ds)\n",
        "\n",
        "    if not vaildation:\n",
        "      print(f\"Epoch: {epoch} Train loss: {train_loss:.4f} Train accuracy: {train_accuracy:.4f}\")\n",
        "      continue\n",
        "\n",
        "    net.eval()\n",
        "\n",
        "    val_correct = 0\n",
        "    val_loss = 0\n",
        "\n",
        "    for X, y in val_dataloader:\n",
        "      X = X.to(device)\n",
        "      y = y.to(device)\n",
        "\n",
        "      pred = net(X)\n",
        "\n",
        "      loss = loss_fn(pred, y)\n",
        "\n",
        "      val_loss += loss.item() * X.size(0)\n",
        "      pred = torch.argmax(pred, dim= -1)\n",
        "      val_correct += (pred == y).float().sum()\n",
        "\n",
        "    val_loss /= len(val_ds)\n",
        "    val_losses.append(val_loss)\n",
        "\n",
        "    val_accuracy = 100 * val_correct / len(val_ds)\n",
        "\n",
        "    print(f\"Epoch: {epoch} Train loss: {train_loss:.4f} Train accuracy: {train_accuracy:.4f}\\t\" \\\n",
        "           +f\"Val loss: {val_loss:.4f} Val accuracy: {val_accuracy:.4f}\")\n"
      ]
    },
    {
      "cell_type": "code",
      "execution_count": 58,
      "metadata": {
        "colab": {
          "base_uri": "https://localhost:8080/",
          "height": 447
        },
        "id": "4wXceloP-NLy",
        "outputId": "dc67a82c-04bf-4ba6-e3de-23f28462f92e"
      },
      "outputs": [
        {
          "data": {
            "text/plain": [
              "<matplotlib.legend.Legend at 0x7e0b99e7f580>"
            ]
          },
          "execution_count": 58,
          "metadata": {},
          "output_type": "execute_result"
        },
        {
          "data": {
            "image/png": "[encoded data removed]",
            "text/plain": [
              "<Figure size 640x480 with 1 Axes>"
            ]
          },
          "metadata": {},
          "output_type": "display_data"
        }
      ],
      "source": [
        "plt.plot(range(epochs), train_losses, val_losses)\n",
        "plt.legend(['train loss', 'val loss'])"
      ]
    },
    {
      "cell_type": "code",
      "execution_count": 61,
      "metadata": {
        "colab": {
          "base_uri": "https://localhost:8080/"
        },
        "id": "ztY2Cwdb_INH",
        "outputId": "2d553385-c49b-4995-c9da-3b311f7dd6c6"
      },
      "outputs": [
        {
          "name": "stdout",
          "output_type": "stream",
          "text": [
            "Test loss: 0.0007 Test accuracy: 100.0000\n"
          ]
        }
      ],
      "source": [
        "net.eval()\n",
        "\n",
        "test_losses = []\n",
        "test_correct = 0\n",
        "test_loss = 0\n",
        "\n",
        "for X, y in test_dataloader:\n",
        "  X = X.to(device)\n",
        "  y = y.to(device)\n",
        "\n",
        "  pred = net(X)\n",
        "\n",
        "  loss = loss_fn(pred, y)\n",
        "\n",
        "  test_loss += loss.item() * X.size(0)\n",
        "  pred = torch.argmax(pred, dim= -1)\n",
        "  test_correct += (pred == y).float().sum()\n",
        "\n",
        "test_loss /= len(val_ds)\n",
        "test_losses.append(val_loss)\n",
        "\n",
        "test_accuracy = 100 * test_correct / len(val_ds)\n",
        "\n",
        "print(f\"Test loss: {test_loss:.4f} Test accuracy: {test_accuracy:.4f}\")"
      ]
    },
    {
      "cell_type": "code",
      "execution_count": 71,
      "metadata": {
        "id": "nsy0rbbQCB06"
      },
      "outputs": [],
      "source": [
        "model_name = f\"pytorch_model_{epochs=}_{batch_size=}_{lr=}_{train_loss=:.4f}.pt\"\n",
        "torch.save(net, f\"./{model_name}\")"
      ]
    }
  ],
  "metadata": {
    "accelerator": "GPU",
    "colab": {
      "gpuType": "T4",
      "provenance": []
    },
    "kernelspec": {
      "display_name": "venv",
      "language": "python",
      "name": "venv"
    },
    "language_info": {
      "codemirror_mode": {
        "name": "ipython",
        "version": 3
      },
      "file_extension": ".py",
      "mimetype": "text/x-python",
      "name": "python",
      "nbconvert_exporter": "python",
      "pygments_lexer": "ipython3",
      "version": "3.10.11"
    }
  },
  "nbformat": 4,
  "nbformat_minor": 0
}
