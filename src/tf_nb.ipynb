{
  "cells": [
    {
      "cell_type": "markdown",
      "metadata": {
        "id": "sWaNne_SYuNg"
      },
      "source": [
        "# Set Up"
      ]
    },
    {
      "cell_type": "code",
      "execution_count": 1,
      "metadata": {
        "colab": {
          "base_uri": "https://localhost:8080/",
          "height": 35
        },
        "id": "MeIQeIKHYuNi",
        "outputId": "2b9ece19-8b85-413d-99dd-eba4e2590bab"
      },
      "outputs": [
        {
          "data": {
            "text/plain": [
              "[]"
            ]
          },
          "execution_count": 1,
          "metadata": {},
          "output_type": "execute_result"
        }
      ],
      "source": [
        "import time\n",
        "\n",
        "import tensorflow as tf\n",
        "from tensorflow.keras import layers, Sequential\n",
        "\n",
        "from utils import images_path\n",
        "\n",
        "tf.config.list_physical_devices('GPU')"
      ]
    },
    {
      "cell_type": "code",
      "execution_count": 21,
      "metadata": {},
      "outputs": [
        {
          "name": "stdout",
          "output_type": "stream",
          "text": [
            "Found 5773 files belonging to 2 classes.\n",
            "Using 3464 files for training.\n",
            "Found 5773 files belonging to 2 classes.\n",
            "Using 1154 files for validation.\n"
          ]
        }
      ],
      "source": [
        "batch_size = 64\n",
        "seed = int(time.time())\n",
        "train_ds = tf.keras.utils.image_dataset_from_directory(\n",
        "    images_path,\n",
        "    validation_split=0.4,\n",
        "    subset= \"training\",\n",
        "    seed= seed,\n",
        "    image_size= (360, 640),\n",
        "    batch_size= batch_size,\n",
        ")\n",
        "\n",
        "val_ds = tf.keras.utils.image_dataset_from_directory(\n",
        "    images_path,\n",
        "    validation_split=0.2,\n",
        "    subset= \"validation\",\n",
        "    seed= seed,\n",
        "    image_size= (360, 640),\n",
        "    batch_size= batch_size,\n",
        ")\n",
        "\n",
        "val_batches = tf.data.experimental.cardinality(val_ds)\n",
        "test_ds = val_ds.take(val_batches // 2)\n",
        "val_ds = val_ds.skip(val_batches // 2)"
      ]
    },
    {
      "cell_type": "code",
      "execution_count": 22,
      "metadata": {},
      "outputs": [],
      "source": [
        "model = Sequential(\n",
        "    [\n",
        "        layers.Conv2D(6, 5, padding=\"same\", activation=\"relu\"),\n",
        "        layers.MaxPooling2D(pool_size=(2, 2), strides=2),\n",
        "        layers.Conv2D(16, 5, padding=\"valid\", activation=\"relu\"),\n",
        "        layers.MaxPooling2D(pool_size=(2, 2), strides=2),\n",
        "        layers.Flatten(),\n",
        "        layers.Dense(1024, activation=\"relu\"),\n",
        "        layers.Dense(512, activation=\"relu\"),\n",
        "        layers.Dense(256, activation=\"relu\"),\n",
        "        layers.Dense(128, activation=\"relu\"),\n",
        "        layers.Dense(1, activation= \"linear\")\n",
        "    ]\n",
        ")"
      ]
    },
    {
      "cell_type": "code",
      "execution_count": 23,
      "metadata": {},
      "outputs": [],
      "source": [
        "lr = 0.001\n",
        "model.compile(\n",
        "    optimizer= tf.keras.optimizers.Adam(learning_rate= lr),\n",
        "    loss= tf.keras.losses.BinaryCrossentropy(from_logits=True),\n",
        "    metrics= [\"accuracy\",],\n",
        ")"
      ]
    },
    {
      "cell_type": "code",
      "execution_count": 24,
      "metadata": {},
      "outputs": [
        {
          "name": "stdout",
          "output_type": "stream",
          "text": [
            "Epoch 1/3\n"
          ]
        },
        {
          "name": "stdout",
          "output_type": "stream",
          "text": [
            "55/55 [==============================] - 1036s 18s/step - loss: 76.1467 - accuracy: 0.9397 - val_loss: 0.0983 - val_accuracy: 0.9913\n",
            "Epoch 2/3\n",
            "55/55 [==============================] - 858s 15s/step - loss: 0.0477 - accuracy: 0.9945 - val_loss: 0.1319 - val_accuracy: 0.9965\n",
            "Epoch 3/3\n",
            "55/55 [==============================] - 940s 17s/step - loss: 0.0200 - accuracy: 0.9983 - val_loss: 0.0860 - val_accuracy: 0.9983\n"
          ]
        },
        {
          "data": {
            "text/plain": [
              "<keras.src.callbacks.History at 0x163c49e9ff0>"
            ]
          },
          "execution_count": 24,
          "metadata": {},
          "output_type": "execute_result"
        }
      ],
      "source": [
        "epochs = 3\n",
        "model.fit(\n",
        "  train_ds,\n",
        "  validation_data= val_ds,\n",
        "  epochs= epochs\n",
        ")"
      ]
    },
    {
      "cell_type": "code",
      "execution_count": 27,
      "metadata": {},
      "outputs": [
        {
          "name": "stdout",
          "output_type": "stream",
          "text": [
            "9/9 [==============================] - 43s 4s/step - loss: 0.0131 - accuracy: 0.9965\n"
          ]
        },
        {
          "data": {
            "text/plain": [
              "[0.013139743357896805, 0.9965277910232544]"
            ]
          },
          "execution_count": 27,
          "metadata": {},
          "output_type": "execute_result"
        }
      ],
      "source": [
        "loss = model.evaluate(test_ds)\n",
        "loss"
      ]
    },
    {
      "cell_type": "code",
      "execution_count": null,
      "metadata": {},
      "outputs": [],
      "source": [
        "model_name = f\"tf_model_{epochs=}_{batch_size=}_{lr=}_{loss[0]=:.4f}.keras\"\n",
        "model.save(model_name)"
      ]
    }
  ],
  "metadata": {
    "accelerator": "GPU",
    "colab": {
      "gpuType": "T4",
      "provenance": []
    },
    "kernelspec": {
      "display_name": "Python 3",
      "name": "python3"
    },
    "language_info": {
      "codemirror_mode": {
        "name": "ipython",
        "version": 3
      },
      "file_extension": ".py",
      "mimetype": "text/x-python",
      "name": "python",
      "nbconvert_exporter": "python",
      "pygments_lexer": "ipython3",
      "version": "3.10.11"
    }
  },
  "nbformat": 4,
  "nbformat_minor": 0
}
